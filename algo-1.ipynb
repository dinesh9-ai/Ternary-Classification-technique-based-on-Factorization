{
 "cells": [
  {
   "cell_type": "code",
   "execution_count": 1,
   "metadata": {},
   "outputs": [],
   "source": [
    "import nltk \n",
    "from nltk.corpus import stopwords as stp\n",
    "import re"
   ]
  },
  {
   "cell_type": "code",
   "execution_count": 2,
   "metadata": {},
   "outputs": [],
   "source": [
    "from matplotlib import pyplot as plt\n",
    "import numpy as np\n",
    "import datetime as dfg"
   ]
  },
  {
   "cell_type": "code",
   "execution_count": 3,
   "metadata": {},
   "outputs": [],
   "source": [
    "def sc(a,b):\n",
    "    c=a/b\n",
    "    #print('c',c)\n",
    "    q=c/10\n",
    "    #print('q',q)\n",
    "    w=c/q\n",
    "    #print('w',w)\n",
    "    if a<b:\n",
    "        a=a*w*q\n",
    "    else:\n",
    "        b=b*w*q\n",
    "    return a%b\n",
    "    "
   ]
  },
  {
   "cell_type": "code",
   "execution_count": 4,
   "metadata": {},
   "outputs": [],
   "source": [
    "def sc(a,b):\n",
    "    q=a/b\n",
    "    #print(q)\n",
    "    if (round(q,4)-int(q))==0:\n",
    "        return 0\n",
    "    return 1"
   ]
  },
  {
   "cell_type": "code",
   "execution_count": 5,
   "metadata": {},
   "outputs": [
    {
     "name": "stdout",
     "output_type": "stream",
     "text": [
      "0\n"
     ]
    }
   ],
   "source": [
    "print(sc(0.14,0.02))"
   ]
  },
  {
   "cell_type": "code",
   "execution_count": 17,
   "metadata": {},
   "outputs": [],
   "source": [
    "inp1=['what is the time',\n",
    "    'tell the time',\n",
    "      'can you please tell me the time',\n",
    "    'what is on clock',\n",
    "      'can you read the clock for me',\n",
    "      'what\\'s the time now',\n",
    "    'please tell me the time',\n",
    "    'what time is it',\n",
    "    'Excuse me could please tell what time is it',\n",
    "    'what is today temperature',\n",
    "    'how hot is it outside',\n",
    "    'how cool is it outside',\n",
    "    'what is the temperature',\n",
    "      'please tell me today\\'s temperature',\n",
    "      'please tell me how hot is it today',\n",
    "     'how hot is it',\n",
    "     'how cool is it',\n",
    "      'is it too cool outside',\n",
    "      'what can be the temperature outside',\n",
    "     'please tell me what is the temperature',\n",
    "     'excuse me could you tell what is the temperature outside',\n",
    "     'where am I now',\n",
    "     'can you please tell me where am i now',\n",
    "     'excuse me where am I now',\n",
    "     'tell my location',\n",
    "     'point my location',\n",
    "     'locate me',\n",
    "     'where am I',\n",
    "     'what is my location']\n",
    "y11=[.02,0.02*2,.02*4,0.02*6,.02*8,.02*10,.02*12,.02*14,0.02*16,.03,.03*2,.03*4,.03*6,.03*8,.03*10,0.03*12,0.03*14,0.03*16,0.03*18,0.03*20,0.03*22\n",
    "    ,0.07,0.07*2,0.07*4,0.07*6,0.07*8,0.07*10,0.07*12,0.07*14]\n",
    "y=[.02,0.02,.02,0.02,.02,.02,.02,.02,0.02,.03,.03,.03,.03,.03,.03,0.03,0.03,0.03,0.03,0.03,0.03,0.07,0.07,0.07,0.07,0.07,0.07,0.07,0.07]\n",
    "y1=[1,1,1,1,1,1,1,1,1,2,2,2,2,2,2,2,2,2,2,2,2]"
   ]
  },
  {
   "cell_type": "code",
   "execution_count": 18,
   "metadata": {},
   "outputs": [
    {
     "name": "stdout",
     "output_type": "stream",
     "text": [
      "time \n",
      "tell time \n",
      "please tell time \n",
      "clock \n",
      "read clock \n",
      "what's time \n",
      "please tell time \n",
      "time \n",
      "excuse could please tell time \n",
      "today temperature \n",
      "hot outside \n",
      "cool outside \n",
      "temperature \n",
      "please tell today's temperature \n",
      "please tell hot today \n",
      "hot \n",
      "cool \n",
      "cool outside \n",
      "temperature outside \n",
      "please tell temperature \n",
      "excuse could tell temperature outside \n",
      "\n",
      "please tell \n",
      "excuse \n",
      "tell location \n",
      "point location \n",
      "locate \n",
      "\n",
      "location \n"
     ]
    }
   ],
   "source": [
    "inp=[]\n",
    "for i in inp1:\n",
    "    i=i.lower()\n",
    "    temp=i.split()\n",
    "    for j in stp.words('english'):\n",
    "        if j in temp:\n",
    "            temp.remove(j)\n",
    "    ts=''\n",
    "    for k in temp:\n",
    "        ts=ts+k+' '\n",
    "    inp.append(ts)\n",
    "    print(ts)"
   ]
  },
  {
   "cell_type": "code",
   "execution_count": 9,
   "metadata": {
    "scrolled": true
   },
   "outputs": [],
   "source": [
    "freq={}\n",
    "kj=0\n",
    "for i in inp:\n",
    "    for j in i.split():\n",
    "        if j in freq:\n",
    "            a=round(y11[kj],4)\n",
    "            freq[j]+=a\n",
    "        else:\n",
    "            a=round(y[kj],4)\n",
    "            freq[j]=a\n",
    "        if j=='cool':\n",
    "            print(a)\n",
    "        \n",
    "    kj+=1"
   ]
  },
  {
   "cell_type": "code",
   "execution_count": 9,
   "metadata": {},
   "outputs": [
    {
     "data": {
      "text/plain": [
       "{'time': 1.1800000000000002,\n",
       " 'tell': 3.02,\n",
       " 'please': 1.8600000000000003,\n",
       " 'clock': 0.18,\n",
       " 'read': 0.02,\n",
       " \"what's\": 0.02,\n",
       " 'excuse': 0.9600000000000001,\n",
       " 'could': 0.68,\n",
       " 'today': 0.32999999999999996,\n",
       " 'temperature': 2.25,\n",
       " 'hot': 0.69,\n",
       " 'outside': 1.83,\n",
       " 'cool': 0.9299999999999999,\n",
       " \"today's\": 0.03,\n",
       " 'location': 1.61,\n",
       " 'point': 0.07,\n",
       " 'locate': 0.07}"
      ]
     },
     "execution_count": 9,
     "metadata": {},
     "output_type": "execute_result"
    }
   ],
   "source": [
    "freq"
   ]
  },
  {
   "cell_type": "code",
   "execution_count": 10,
   "metadata": {},
   "outputs": [],
   "source": [
    "fr={}\n",
    "k=0\n",
    "for i,j in zip(freq.values(),freq.keys()):\n",
    "    if sc(i,0.02)==0:\n",
    "        #print(j+': task is to find time')\n",
    "        fr[j]=i\n",
    "        if (sc(i,0.03)==0)or(sc(i,0.07)==0):\n",
    "            z=fr.pop(j)\n",
    "            if j=='cool':\n",
    "                print('cool',i)\n",
    "            #print(str(j)+' '+str(z)+' poped 1')\n",
    "    if sc(i,0.03)==0:\n",
    "        #print(j+': task is to find temperature')\n",
    "        fr[j]=i\n",
    "        if (sc(i,0.02)==0) or(sc(i,0.07)==0):\n",
    "            z=fr.pop(j)\n",
    "            #print(str(j)+' '+str(z)+' poped 2')\n",
    "    if sc(i,0.07)==0:\n",
    "        fr[j]=i\n",
    "        if ((sc(i,0.02)==0)or(sc(i,0.03)==0)):\n",
    "            fr.pop(j)\n",
    "    else:\n",
    "        k+=1\n",
    "    k+=1"
   ]
  },
  {
   "cell_type": "code",
   "execution_count": 11,
   "metadata": {},
   "outputs": [
    {
     "data": {
      "text/plain": [
       "1"
      ]
     },
     "execution_count": 11,
     "metadata": {},
     "output_type": "execute_result"
    }
   ],
   "source": [
    "sc(0.09,0.02)"
   ]
  },
  {
   "cell_type": "code",
   "execution_count": 12,
   "metadata": {},
   "outputs": [
    {
     "data": {
      "text/plain": [
       "{'time': 1.1800000000000002,\n",
       " 'tell': 3.02,\n",
       " 'read': 0.02,\n",
       " \"what's\": 0.02,\n",
       " 'could': 0.68,\n",
       " 'temperature': 2.25,\n",
       " 'hot': 0.69,\n",
       " 'outside': 1.83,\n",
       " 'cool': 0.9299999999999999,\n",
       " \"today's\": 0.03,\n",
       " 'location': 1.61,\n",
       " 'point': 0.07,\n",
       " 'locate': 0.07}"
      ]
     },
     "execution_count": 12,
     "metadata": {},
     "output_type": "execute_result"
    }
   ],
   "source": [
    "fr"
   ]
  },
  {
   "cell_type": "code",
   "execution_count": 13,
   "metadata": {},
   "outputs": [],
   "source": [
    "qw=[]\n",
    "l=0\n",
    "for i in fr.values():\n",
    "    l=l+1\n",
    "    qw.append(i)\n",
    "qwe=[1,2,2,2,2,2]"
   ]
  },
  {
   "cell_type": "code",
   "execution_count": 14,
   "metadata": {},
   "outputs": [
    {
     "data": {
      "text/plain": [
       "13"
      ]
     },
     "execution_count": 14,
     "metadata": {},
     "output_type": "execute_result"
    }
   ],
   "source": [
    "len(qw)"
   ]
  },
  {
   "cell_type": "code",
   "execution_count": 15,
   "metadata": {},
   "outputs": [
    {
     "data": {
      "text/plain": [
       "[1.1800000000000002,\n",
       " 3.02,\n",
       " 0.02,\n",
       " 0.02,\n",
       " 0.68,\n",
       " 2.25,\n",
       " 0.69,\n",
       " 1.83,\n",
       " 0.9299999999999999,\n",
       " 0.03,\n",
       " 1.61,\n",
       " 0.07,\n",
       " 0.07]"
      ]
     },
     "execution_count": 15,
     "metadata": {},
     "output_type": "execute_result"
    }
   ],
   "source": [
    "qw"
   ]
  },
  {
   "cell_type": "code",
   "execution_count": 16,
   "metadata": {},
   "outputs": [
    {
     "data": {
      "text/plain": [
       "13"
      ]
     },
     "execution_count": 16,
     "metadata": {},
     "output_type": "execute_result"
    }
   ],
   "source": [
    "xc=[2,2,2,2,2,3,3,3,3,3,7,7,7]\n",
    "len(xc)"
   ]
  },
  {
   "cell_type": "code",
   "execution_count": 17,
   "metadata": {},
   "outputs": [
    {
     "data": {
      "text/plain": [
       "<matplotlib.collections.PathCollection at 0xa4a6888>"
      ]
     },
     "execution_count": 17,
     "metadata": {},
     "output_type": "execute_result"
    },
    {
     "data": {
      "image/png": "[encoded data removed]",
      "text/plain": [
       "<Figure size 432x288 with 1 Axes>"
      ]
     },
     "metadata": {
      "needs_background": "light"
     },
     "output_type": "display_data"
    }
   ],
   "source": [
    "plt.scatter(xc,qw)"
   ]
  },
  {
   "cell_type": "code",
   "execution_count": 19,
   "metadata": {},
   "outputs": [],
   "source": [
    "def out():\n",
    "    z=0\n",
    "    q=input('enter task: ').lower()\n",
    "    for i in q.split():\n",
    "        if i in fr:\n",
    "            if sc(fr[i],0.02)==0:\n",
    "                z+=fr.get(i,0)\n",
    "                #print(dfg.datetime.today().isoformat())\n",
    "                break\n",
    "            elif sc(fr[i],0.03)==0:\n",
    "                z+=round(fr.get(i,0),4)\n",
    "                #print('39 degree C')\n",
    "                break\n",
    "            elif sc(fr[i],0.07)==0:\n",
    "                z+=round(fr.get(i,0),4)\n",
    "                #print('at your home')\n",
    "    z1=sc(z,0.02)\n",
    "    z2=sc(z,0.03)\n",
    "    z3=sc(z,0.07)\n",
    "    if (z1<z2) and (z1<z3):\n",
    "        print(dfg.datetime.today().isoformat())\n",
    "        #print(z1,z2,z3)\n",
    "    elif (z2<z3)and (z2<z1):\n",
    "        print('39 degree C')\n",
    "    elif (z3<z2)and(z3<z1):\n",
    "        print('at your home')\n",
    "    else:\n",
    "        print('try again')\n",
    "        print(z,z1,z2,z3)"
   ]
  },
  {
   "cell_type": "markdown",
   "metadata": {},
   "source": [
    "# TEST-CASE-1#"
   ]
  },
  {
   "cell_type": "code",
   "execution_count": 20,
   "metadata": {},
   "outputs": [
    {
     "name": "stdout",
     "output_type": "stream",
     "text": [
      "enter task: can you please tell the time\n",
      "2021-03-17T01:10:02.958114\n"
     ]
    }
   ],
   "source": [
    "out()"
   ]
  },
  {
   "cell_type": "markdown",
   "metadata": {},
   "source": [
    "# TEST-CASE-2#"
   ]
  },
  {
   "cell_type": "code",
   "execution_count": 21,
   "metadata": {},
   "outputs": [
    {
     "name": "stdout",
     "output_type": "stream",
     "text": [
      "enter task: what is the temperature\n",
      "39 degree C\n"
     ]
    }
   ],
   "source": [
    "out()"
   ]
  },
  {
   "cell_type": "markdown",
   "metadata": {},
   "source": [
    "# TEST-CASE-3"
   ]
  },
  {
   "cell_type": "code",
   "execution_count": 22,
   "metadata": {},
   "outputs": [
    {
     "name": "stdout",
     "output_type": "stream",
     "text": [
      "enter task: what is my location\n",
      "at your home\n"
     ]
    }
   ],
   "source": [
    "out()"
   ]
  },
  {
   "cell_type": "code",
   "execution_count": null,
   "metadata": {},
   "outputs": [],
   "source": []
  }
 ],
 "metadata": {
  "kernelspec": {
   "display_name": "Python 3",
   "language": "python",
   "name": "python3"
  },
  "language_info": {
   "codemirror_mode": {
    "name": "ipython",
    "version": 3
   },
   "file_extension": ".py",
   "mimetype": "text/x-python",
   "name": "python",
   "nbconvert_exporter": "python",
   "pygments_lexer": "ipython3",
   "version": "3.7.6"
  }
 },
 "nbformat": 4,
 "nbformat_minor": 4
}
