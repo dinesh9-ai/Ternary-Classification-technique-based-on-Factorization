{
 "cells": [
  {
   "cell_type": "code",
   "execution_count": 1,
   "metadata": {},
   "outputs": [],
   "source": [
    "import nltk \n",
    "from nltk.corpus import stopwords as stp\n",
    "import re\n",
    "from matplotlib import pyplot as plt\n",
    "import numpy as np\n",
    "import datetime as dfg"
   ]
  },
  {
   "cell_type": "code",
   "execution_count": 2,
   "metadata": {},
   "outputs": [],
   "source": [
    "inp1=['give me the book',#1\n",
    "      'can you hand over that book',\n",
    "      'can you pass that book',\n",
    "      'please give me that book',\n",
    "      'that book is mine can you give it',\n",
    "      'can you help me',#2\n",
    "      'please help me',\n",
    "      'help me please',\n",
    "      'can you give a hand',\n",
    "      'can you switch on',#3\n",
    "      'turn on the switch',\n",
    "      'please switch on'\n",
    "    \n",
    "]\n",
    "y11=[2,2,2,2,2,3,3,3,3,7,7,7]\n",
    "y=[1,1,1,1,1,2,2,2,3,3]"
   ]
  },
  {
   "cell_type": "code",
   "execution_count": 3,
   "metadata": {},
   "outputs": [],
   "source": [
    "freq={}\n",
    "kj=0\n",
    "for i in inp1:\n",
    "    for j in i.split():\n",
    "        if j in freq:\n",
    "            freq[j]*=y11[kj]\n",
    "        else:\n",
    "            freq[j]=y11[kj]\n",
    "        \n",
    "    kj+=1"
   ]
  },
  {
   "cell_type": "code",
   "execution_count": 4,
   "metadata": {},
   "outputs": [
    {
     "data": {
      "text/plain": [
       "{'give': 24,\n",
       " 'me': 108,\n",
       " 'the': 14,\n",
       " 'book': 32,\n",
       " 'can': 504,\n",
       " 'you': 504,\n",
       " 'hand': 6,\n",
       " 'over': 2,\n",
       " 'that': 16,\n",
       " 'pass': 2,\n",
       " 'please': 126,\n",
       " 'is': 2,\n",
       " 'mine': 2,\n",
       " 'it': 2,\n",
       " 'help': 27,\n",
       " 'a': 3,\n",
       " 'switch': 343,\n",
       " 'on': 343,\n",
       " 'turn': 7}"
      ]
     },
     "execution_count": 4,
     "metadata": {},
     "output_type": "execute_result"
    }
   ],
   "source": [
    "freq"
   ]
  },
  {
   "cell_type": "code",
   "execution_count": 5,
   "metadata": {},
   "outputs": [],
   "source": [
    "fr={}\n",
    "k=0\n",
    "for i,j in zip(freq.values(),freq.keys()):\n",
    "    if i%2==0:\n",
    "        fr[j]=i\n",
    "        if i%3==0 or i%7==0:\n",
    "            fr.pop(j)\n",
    "    if i%3==0:\n",
    "        fr[j]=i\n",
    "        if i%2==0 or i%7==0:\n",
    "            fr.pop(j)\n",
    "    if i%7==0:\n",
    "        fr[j]=i\n",
    "        if i%3==0 or i%2==0:\n",
    "            fr.pop(j)"
   ]
  },
  {
   "cell_type": "code",
   "execution_count": 6,
   "metadata": {},
   "outputs": [
    {
     "data": {
      "text/plain": [
       "{'book': 32,\n",
       " 'over': 2,\n",
       " 'that': 16,\n",
       " 'pass': 2,\n",
       " 'is': 2,\n",
       " 'mine': 2,\n",
       " 'it': 2,\n",
       " 'help': 27,\n",
       " 'a': 3,\n",
       " 'switch': 343,\n",
       " 'on': 343,\n",
       " 'turn': 7}"
      ]
     },
     "execution_count": 6,
     "metadata": {},
     "output_type": "execute_result"
    }
   ],
   "source": [
    "fr"
   ]
  },
  {
   "cell_type": "code",
   "execution_count": 7,
   "metadata": {},
   "outputs": [],
   "source": [
    "def out():\n",
    "    z=1\n",
    "    q=input('enter task: ').lower()\n",
    "    for i in q.split():\n",
    "        if i in fr:\n",
    "            print(i)\n",
    "            if fr[i]%2==0:\n",
    "                z=fr.get(i,0)\n",
    "                break\n",
    "                #print(dfg.datetime.today().isoformat())\n",
    "                \n",
    "            elif fr[i]%3==0:\n",
    "                z=fr.get(i,0)\n",
    "                break\n",
    "                #print('39 degree C')\n",
    "                \n",
    "            elif fr[i]%7==0:\n",
    "                z=fr.get(i,0)\n",
    "                break\n",
    "                #print('at your home')\n",
    "    z1=z%2\n",
    "    z2=z%3\n",
    "    z3=z%7\n",
    "    print(z,z1,z2,z3)\n",
    "    if (z1<z2) and (z1<z3):\n",
    "        print('book')\n",
    "        #print(z1,z2,z3)\n",
    "    elif (z2<z3)and (z2<z1):\n",
    "        print('help')\n",
    "    elif (z3<z2)and(z3<z1):\n",
    "        print('switch on')\n",
    "    else:\n",
    "        print('try again')\n",
    "        print(z,z1,z2,z3)"
   ]
  },
  {
   "cell_type": "code",
   "execution_count": 13,
   "metadata": {},
   "outputs": [
    {
     "name": "stdout",
     "output_type": "stream",
     "text": [
      "enter task: i feel down can you help me to get up\n",
      "help\n",
      "27 1 0 6\n",
      "help\n"
     ]
    }
   ],
   "source": [
    "out()"
   ]
  },
  {
   "cell_type": "code",
   "execution_count": null,
   "metadata": {},
   "outputs": [],
   "source": []
  },
  {
   "cell_type": "code",
   "execution_count": null,
   "metadata": {},
   "outputs": [],
   "source": []
  }
 ],
 "metadata": {
  "kernelspec": {
   "display_name": "Python 3",
   "language": "python",
   "name": "python3"
  },
  "language_info": {
   "codemirror_mode": {
    "name": "ipython",
    "version": 3
   },
   "file_extension": ".py",
   "mimetype": "text/x-python",
   "name": "python",
   "nbconvert_exporter": "python",
   "pygments_lexer": "ipython3",
   "version": "3.7.6"
  }
 },
 "nbformat": 4,
 "nbformat_minor": 4
}
